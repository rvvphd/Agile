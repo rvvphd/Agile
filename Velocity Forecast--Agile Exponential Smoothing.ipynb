{
 "cells": [
  {
   "cell_type": "code",
   "execution_count": 1,
   "metadata": {},
   "outputs": [],
   "source": [
    "import numpy as np\n",
    "import pandas as pd\n",
    "\n",
    "def exp_smooth(d,extra_periods=1,alpha=0.4):\n",
    "   \n",
    "    # Setup input for the numpy array\n",
    "    d = np.array(d) \n",
    "    # Historical sprint length\n",
    "    cols = len(d) \n",
    "    # Append np.nan into the demand array to cover future periods\n",
    "    d = np.append(d,[np.nan]*extra_periods) \n",
    "    \n",
    "    # Forecast array\n",
    "    f = np.full(cols+extra_periods,np.nan) \n",
    "    # Initilization of first forecast\n",
    "    f[1] = d[0]\n",
    "    \n",
    "    # Create all the t+1 forecast until end of historical sprints\n",
    "    for t in range(2,cols+1):\n",
    "        f[t] = alpha*d[t-1]+(1-alpha)*f[t-1]\n",
    "     \n",
    "    # Forecast for all extra sprints\n",
    "    for t in range(cols+1,cols+extra_periods):\n",
    "        # Update the forecast as the previous forecast\n",
    "        f[t] = f[t-1]\n",
    "           \n",
    "    df = pd.DataFrame.from_dict({\"Historical\":d,\"Forecast\":f,\"Error\":d-f})\n",
    "  \n",
    "    return df"
   ]
  },
  {
   "cell_type": "code",
   "execution_count": 2,
   "metadata": {},
   "outputs": [
    {
     "name": "stdout",
     "output_type": "stream",
     "text": [
      "MAE: 22.32\n",
      "RMSE: 27.06\n"
     ]
    },
    {
     "data": {
      "image/png": "[encoded data removed]",
      "text/plain": [
       "<Figure size 576x216 with 1 Axes>"
      ]
     },
     "metadata": {
      "needs_background": "light"
     },
     "output_type": "display_data"
    }
   ],
   "source": [
    "d=[17, 0, 50, 37, 54, 65, 59, 50, 39, 56, 85, 71, 112, 79, 126, 102, 135, 85, 152]   \n",
    "df = exp_smooth(d,extra_periods=4)\n",
    "df.index.name = \"Periods\"\n",
    "df[[\"Historical\",\"Forecast\"]].plot(figsize=(8,3),title=\"Velocity Forecast\",ylim=(0,30),style=[\"-\",\"--\"])  \n",
    "MAE = df[\"Error\"].abs().mean()  \n",
    "print(\"MAE:\",round(MAE,2)) \n",
    "RMSE = np.sqrt((df[\"Error\"]**2).mean())\n",
    "print(\"RMSE:\",round(RMSE,2))\n",
    "import matplotlib.pyplot as plt \n",
    "plt.tight_layout()\n",
    "plt.savefig(\"fig-simple-exp-smooth-example\"+\".pdf\")"
   ]
  },
  {
   "cell_type": "code",
   "execution_count": null,
   "metadata": {},
   "outputs": [],
   "source": []
  }
 ],
 "metadata": {
  "kernelspec": {
   "display_name": "Python 3",
   "language": "python",
   "name": "python3"
  },
  "language_info": {
   "codemirror_mode": {
    "name": "ipython",
    "version": 3
   },
   "file_extension": ".py",
   "mimetype": "text/x-python",
   "name": "python",
   "nbconvert_exporter": "python",
   "pygments_lexer": "ipython3",
   "version": "3.7.6"
  }
 },
 "nbformat": 4,
 "nbformat_minor": 4
}
